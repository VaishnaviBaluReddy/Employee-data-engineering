{
 "cells": [
  {
   "cell_type": "markdown",
   "metadata": {
    "application/vnd.databricks.v1+cell": {
     "cellMetadata": {
      "byteLimit": 2048000,
      "rowLimit": 10000
     },
     "inputWidgets": {},
     "nuid": "8cd6c57e-0b9f-4694-9d6b-bcb26201045b",
     "showTitle": false,
     "title": ""
    }
   },
   "source": [
    "##Import the Libraries\n"
   ]
  },
  {
   "cell_type": "code",
   "execution_count": 0,
   "metadata": {
    "application/vnd.databricks.v1+cell": {
     "cellMetadata": {
      "byteLimit": 2048000,
      "rowLimit": 10000
     },
     "inputWidgets": {},
     "nuid": "b7bd860c-cb7c-4700-a2df-035c45a63608",
     "showTitle": false,
     "title": ""
    }
   },
   "outputs": [],
   "source": [
    "from pyspark.sql.functions import*\n",
    "from datetime import datetime\n",
    "from pyspark.sql.types import *\n",
    "from pyspark.sql.functions import lit,col\n",
    "from pyspark.sql.utils import AnalysisException\n",
    "from pyspark.sql.functions import col\n",
    "from delta.tables import *\n",
    "from pyspark.sql.window import Window\n",
    "\n"
   ]
  },
  {
   "cell_type": "markdown",
   "metadata": {
    "application/vnd.databricks.v1+cell": {
     "cellMetadata": {
      "byteLimit": 2048000,
      "rowLimit": 10000
     },
     "inputWidgets": {},
     "nuid": "3fd876b1-4e58-4382-8f5d-2ea5376e256d",
     "showTitle": false,
     "title": ""
    }
   },
   "source": [
    "##Declare Variable to be reused"
   ]
  },
  {
   "cell_type": "code",
   "execution_count": 0,
   "metadata": {
    "application/vnd.databricks.v1+cell": {
     "cellMetadata": {
      "byteLimit": 2048000,
      "rowLimit": 10000
     },
     "inputWidgets": {},
     "nuid": "51bc1923-a715-412a-8d90-b422c77aba77",
     "showTitle": false,
     "title": ""
    }
   },
   "outputs": [],
   "source": [
    "ts=datetime.now().strftime(\"%d_%m_%Y_%H_%M_%S\")\n",
    "tstamp=datetime.now().strftime(\"%d%m%Y%H%M%S\")\n",
    "tstampiso=datetime.now().isoformat()\n",
    "dttime=datetime.now()\n",
    "yr=datetime.now().strftime(\"%Y\")\n",
    "mth=datetime.now().strftime(\"%m\")\n",
    "date_time_format=datetime.now()\n",
    "adb_failure_type='adb'\n",
    "adb_activity_name='notebook'\n",
    "return_code_success='pass'\n",
    "return_code_failure='fail'\n",
    "target_database='EDP_DEV'\n",
    "import_schema='Bronze'\n",
    "config_schema='Config'\n",
    "iserror=0\n",
    "partition_list=[yr,mth]\n",
    "getwtrdatevl='getwtrdate'\n",
    "tablevl='table'\n",
    "worker_count=16\n",
    "driver_count=8"
   ]
  },
  {
   "cell_type": "markdown",
   "metadata": {
    "application/vnd.databricks.v1+cell": {
     "cellMetadata": {
      "byteLimit": 2048000,
      "rowLimit": 10000
     },
     "inputWidgets": {},
     "nuid": "d1893841-a5db-4013-9bdf-ab719dbb8e94",
     "showTitle": false,
     "title": ""
    }
   },
   "source": [
    "##File Format\n"
   ]
  },
  {
   "cell_type": "code",
   "execution_count": 0,
   "metadata": {
    "application/vnd.databricks.v1+cell": {
     "cellMetadata": {
      "byteLimit": 2048000,
      "rowLimit": 10000
     },
     "inputWidgets": {},
     "nuid": "699fabdd-7022-4766-ac2a-67189ed65347",
     "showTitle": false,
     "title": ""
    }
   },
   "outputs": [],
   "source": [
    "file_format_parquet='parquet'\n",
    "file_format_delta='delta'"
   ]
  },
  {
   "cell_type": "markdown",
   "metadata": {
    "application/vnd.databricks.v1+cell": {
     "cellMetadata": {
      "byteLimit": 2048000,
      "rowLimit": 10000
     },
     "inputWidgets": {},
     "nuid": "1263f69c-7fb5-4f5a-b702-ed85c69ecbbf",
     "showTitle": false,
     "title": ""
    }
   },
   "source": [
    "##UserID"
   ]
  },
  {
   "cell_type": "code",
   "execution_count": 0,
   "metadata": {
    "application/vnd.databricks.v1+cell": {
     "cellMetadata": {
      "byteLimit": 2048000,
      "rowLimit": 10000
     },
     "inputWidgets": {},
     "nuid": "0c5d9ab4-d12e-4121-8851-ed5d23e1e845",
     "showTitle": false,
     "title": ""
    }
   },
   "outputs": [],
   "source": [
    "user_id = spark.sql('select current_user() as user').collect()[0]['user']"
   ]
  },
  {
   "cell_type": "code",
   "execution_count": 0,
   "metadata": {
    "application/vnd.databricks.v1+cell": {
     "cellMetadata": {
      "byteLimit": 2048000,
      "rowLimit": 10000
     },
     "inputWidgets": {},
     "nuid": "997d7d56-1199-4cba-b3c5-715490705892",
     "showTitle": false,
     "title": ""
    }
   },
   "outputs": [],
   "source": []
  }
 ],
 "metadata": {
  "application/vnd.databricks.v1+notebook": {
   "dashboards": [],
   "environmentMetadata": null,
   "language": "python",
   "notebookMetadata": {
    "pythonIndentUnit": 4
   },
   "notebookName": "EDP_Config",
   "widgets": {}
  }
 },
 "nbformat": 4,
 "nbformat_minor": 0
}
