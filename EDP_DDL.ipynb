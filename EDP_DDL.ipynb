{
 "cells": [
  {
   "cell_type": "code",
   "execution_count": 0,
   "metadata": {
    "application/vnd.databricks.v1+cell": {
     "cellMetadata": {
      "byteLimit": 2048000,
      "rowLimit": 10000
     },
     "inputWidgets": {},
     "nuid": "2b26552c-0eee-4ef0-a582-d22d7ad0e6fd",
     "showTitle": false,
     "title": ""
    }
   },
   "outputs": [],
   "source": [
    "%run /Users/vaishnavi.balureddy2@cognizant.com/EDP/EDP_Config"
   ]
  },
  {
   "cell_type": "code",
   "execution_count": 0,
   "metadata": {
    "application/vnd.databricks.v1+cell": {
     "cellMetadata": {
      "byteLimit": 2048000,
      "rowLimit": 10000
     },
     "inputWidgets": {},
     "nuid": "ccca2d2d-347c-4232-8a43-cb82ed881b84",
     "showTitle": false,
     "title": ""
    }
   },
   "outputs": [
    {
     "output_type": "stream",
     "name": "stdout",
     "output_type": "stream",
     "text": [
      "Out[17]: False"
     ]
    }
   ],
   "source": [
    "dbutils.fs.rm(\"dbfs:/user/hive/warehouse/edp_source.db\", True)\n",
    "# qry = f\"DROP TABLE edp_dev.src_emp_slv\"\n",
    "# spark.sql(qry)"
   ]
  },
  {
   "cell_type": "code",
   "execution_count": 0,
   "metadata": {
    "application/vnd.databricks.v1+cell": {
     "cellMetadata": {
      "byteLimit": 2048000,
      "rowLimit": 10000
     },
     "inputWidgets": {},
     "nuid": "30503cf3-024c-4ed0-bfea-e9f147716bb1",
     "showTitle": false,
     "title": ""
    }
   },
   "outputs": [
    {
     "output_type": "stream",
     "name": "stdout",
     "output_type": "stream",
     "text": [
      "Out[18]: True"
     ]
    }
   ],
   "source": [
    "dbutils.fs.rm(\"dbfs:/user/hive/warehouse/edp_dev.db\", True)\n",
    "# qry = f\"DROP TABLE edp_dev.data_quality_rule_execution_log\"\n",
    "# spark.sql(qry)"
   ]
  },
  {
   "cell_type": "code",
   "execution_count": 0,
   "metadata": {
    "application/vnd.databricks.v1+cell": {
     "cellMetadata": {
      "byteLimit": 2048000,
      "rowLimit": 10000
     },
     "inputWidgets": {},
     "nuid": "a277c85d-e6ac-4ee5-8ca4-a7ab9cdac78c",
     "showTitle": false,
     "title": ""
    }
   },
   "outputs": [
    {
     "output_type": "stream",
     "name": "stdout",
     "output_type": "stream",
     "text": [
      "Out[20]: DataFrame[]"
     ]
    }
   ],
   "source": [
    "spark.sql(f'DROP DATABASE IF EXISTS {target_database}')\n",
    "create_db_qry=f\"\"\"CREATE DATABASE IF NOT EXISTS {target_database}\"\"\"\n",
    "spark.sql(create_db_qry)"
   ]
  },
  {
   "cell_type": "code",
   "execution_count": 0,
   "metadata": {
    "application/vnd.databricks.v1+cell": {
     "cellMetadata": {
      "byteLimit": 2048000,
      "rowLimit": 10000
     },
     "inputWidgets": {},
     "nuid": "0caa156b-eb02-4f85-933e-25cbc4e28e0c",
     "showTitle": false,
     "title": ""
    }
   },
   "outputs": [
    {
     "output_type": "stream",
     "name": "stdout",
     "output_type": "stream",
     "text": [
      "Out[21]: DataFrame[]"
     ]
    }
   ],
   "source": [
    "dbutils.fs.rm(\"dbfs:/user/hive/warehouse/edp_dev.db/incremental_load_cfg\", True)\n",
    "create_metadata_qry=f\"\"\"CREATE TABLE IF NOT EXISTS {target_database}.incremental_load_cfg\n",
    "(\n",
    "    src_nm string,\n",
    "    entity_nm string,\n",
    "    wtr_mrk_clm_nm string,\n",
    "    wtr_mrk_clm_val string,\n",
    "    src_clm_key string,\n",
    "    part_clm_nm string,\n",
    "    part_clm_val string,\n",
    "    interval bigint,\n",
    "    frequency bigint,\n",
    "    clm_dtls string,\n",
    "    ref_qry string,\n",
    "    src_wtr_mrk_qry string,\n",
    "    cfg_upd_wtr_mrk_qry string,\n",
    "    batch_sz string,\n",
    "    ld_seq bigint,\n",
    "    uc_nm string,\n",
    "    sch_nm string,\n",
    "    mig_flag string\n",
    "    ) \"\"\"\n",
    "spark.sql(create_metadata_qry)"
   ]
  },
  {
   "cell_type": "code",
   "execution_count": 0,
   "metadata": {
    "application/vnd.databricks.v1+cell": {
     "cellMetadata": {
      "byteLimit": 2048000,
      "rowLimit": 10000
     },
     "inputWidgets": {},
     "nuid": "654ab7cc-7071-486b-9c2f-1a321f663611",
     "showTitle": false,
     "title": ""
    }
   },
   "outputs": [
    {
     "output_type": "stream",
     "name": "stdout",
     "output_type": "stream",
     "text": [
      "Out[22]: DataFrame[]"
     ]
    }
   ],
   "source": [
    "dbutils.fs.rm(\"dbfs:/user/hive/warehouse/edp_dev.db/process_inventory_log\", True)\n",
    "create_log_qry=f\"\"\"CREATE TABLE IF NOT EXISTS {target_database}.process_inventory_log\n",
    "(\n",
    "    src_nm string,\n",
    "    entity_nm string,\n",
    "    pip_nm string,\n",
    "    run_id string,\n",
    "    src_rec_cnt bigint,\n",
    "    dl_cpy_status string,\n",
    "    dl_rec_cnt bigint,\n",
    "    dl_fs_nm string,\n",
    "    dl_dr_nm string,\n",
    "    dl_fl_nm string,\n",
    "    ing_strt_time timestamp,\n",
    "    ing_end_time timestamp,\n",
    "    pip_type string,\n",
    "    zn_info string,\n",
    "    wtr_mrk_cur_val string,\n",
    "    ld_dt_time timestamp\n",
    ") \"\"\"\n",
    "spark.sql(create_log_qry)"
   ]
  },
  {
   "cell_type": "code",
   "execution_count": 0,
   "metadata": {
    "application/vnd.databricks.v1+cell": {
     "cellMetadata": {
      "byteLimit": 2048000,
      "rowLimit": 10000
     },
     "inputWidgets": {},
     "nuid": "3e350e14-a283-4592-b99e-edce1c92e2e5",
     "showTitle": false,
     "title": ""
    }
   },
   "outputs": [
    {
     "output_type": "stream",
     "name": "stdout",
     "output_type": "stream",
     "text": [
      "Out[23]: DataFrame[]"
     ]
    }
   ],
   "source": [
    "dbutils.fs.rm(\"dbfs:/user/hive/warehouse/edp_dev.db/error_log\", True)\n",
    "create_log_qry=f\"\"\"CREATE TABLE IF NOT EXISTS {target_database}.error_log\n",
    "(\n",
    "    src_nm string,\n",
    "    entity_nm string,\n",
    "    uc_nm string,\n",
    "    sch_nm string,\n",
    "    exec_status string,\n",
    "    zn_info string,\n",
    "    err_cd string,\n",
    "    err_desc string,\n",
    "    err_lg_dt_time timestamp,\n",
    "    obj_type string\n",
    "    ) \"\"\"\n",
    "spark.sql(create_log_qry)"
   ]
  },
  {
   "cell_type": "code",
   "execution_count": 0,
   "metadata": {
    "application/vnd.databricks.v1+cell": {
     "cellMetadata": {
      "byteLimit": 2048000,
      "rowLimit": 10000
     },
     "inputWidgets": {},
     "nuid": "e096a220-bdc3-46d9-aae6-9b3f8cfd533d",
     "showTitle": false,
     "title": ""
    }
   },
   "outputs": [
    {
     "output_type": "stream",
     "name": "stdout",
     "output_type": "stream",
     "text": [
      "Out[24]: DataFrame[]"
     ]
    }
   ],
   "source": [
    "create_dq_qry=f\"\"\"CREATE TABLE IF NOT EXISTS {target_database}.data_quality_rule\n",
    "(\n",
    " lob_nm     string\n",
    ",src_nm     string  \n",
    ",entity_nm  string\n",
    ",rule_nm    string\n",
    ",rule_typ   string\n",
    ",rule_bs_qry    string\n",
    ",rule_qry   string\n",
    ",vw_nm      string\n",
    ",mig_flag   boolean\n",
    ") \"\"\"\n",
    "spark.sql(create_dq_qry)"
   ]
  },
  {
   "cell_type": "code",
   "execution_count": 0,
   "metadata": {
    "application/vnd.databricks.v1+cell": {
     "cellMetadata": {
      "byteLimit": 2048000,
      "rowLimit": 10000
     },
     "inputWidgets": {},
     "nuid": "2c8c48de-cd4d-4fed-827c-b6cc9de39170",
     "showTitle": false,
     "title": ""
    }
   },
   "outputs": [
    {
     "output_type": "stream",
     "name": "stdout",
     "output_type": "stream",
     "text": [
      "Out[25]: DataFrame[]"
     ]
    }
   ],
   "source": [
    "create_dq_log_qry=f\"\"\"CREATE TABLE IF NOT EXISTS {target_database}.data_quality_rule_execution_log\n",
    "(\n",
    " lob_nm         string\n",
    ",src_nm         string  \n",
    ",entity_nm      string\n",
    ",rule_nm        string\n",
    ",rule_qry_exec      string\n",
    ",err_rw_cnt     bigint\n",
    ",exec_lg_dt_time    timestamp\n",
    ") \"\"\"\n",
    "spark.sql(create_dq_log_qry)"
   ]
  },
  {
   "cell_type": "code",
   "execution_count": 0,
   "metadata": {
    "application/vnd.databricks.v1+cell": {
     "cellMetadata": {},
     "inputWidgets": {},
     "nuid": "80e47f8a-0cd5-48df-aad8-5f9bce9e003d",
     "showTitle": false,
     "title": ""
    }
   },
   "outputs": [],
   "source": []
  }
 ],
 "metadata": {
  "application/vnd.databricks.v1+notebook": {
   "dashboards": [],
   "environmentMetadata": null,
   "language": "python",
   "notebookMetadata": {
    "mostRecentlyExecutedCommandWithImplicitDF": {
     "commandId": 1884241409408497,
     "dataframes": [
      "_sqldf"
     ]
    },
    "pythonIndentUnit": 4
   },
   "notebookName": "EDP_DDL",
   "widgets": {}
  }
 },
 "nbformat": 4,
 "nbformat_minor": 0
}
