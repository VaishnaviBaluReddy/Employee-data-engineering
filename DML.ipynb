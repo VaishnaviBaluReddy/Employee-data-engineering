{
 "cells": [
  {
   "cell_type": "code",
   "execution_count": 0,
   "metadata": {
    "application/vnd.databricks.v1+cell": {
     "cellMetadata": {
      "byteLimit": 2048000,
      "rowLimit": 10000
     },
     "inputWidgets": {},
     "nuid": "1925e113-8908-4f2f-9b0a-04804998eb30",
     "showTitle": false,
     "title": ""
    }
   },
   "outputs": [],
   "source": [
    "%run ./EDP_Config"
   ]
  },
  {
   "cell_type": "code",
   "execution_count": 0,
   "metadata": {
    "application/vnd.databricks.v1+cell": {
     "cellMetadata": {
      "byteLimit": 2048000,
      "rowLimit": 10000
     },
     "inputWidgets": {},
     "nuid": "c45e842c-a68d-42e4-836b-fe997b07e1fd",
     "showTitle": false,
     "title": ""
    }
   },
   "outputs": [
    {
     "output_type": "stream",
     "name": "stdout",
     "output_type": "stream",
     "text": [
      "Creating Metadata for EMP table\n"
     ]
    }
   ],
   "source": [
    "df1=spark.sql(f\"\"\"select * from {target_database}.incremental_load_cfg where  entity_nm='src_emp'\"\"\")\n",
    "if df1.count() ==1 :\n",
    "  print('Metadata Present for EMP table')\n",
    "else:\n",
    "    print ('Creating Metadata for EMP table')\n",
    "    userqry=\"\"\"insert into EDP_DEV.incremental_load_cfg (src_nm,\tentity_nm,\twtr_mrk_clm_nm,wtr_mrk_clm_val,src_clm_key,\tpart_clm_nm, part_clm_val, interval, frequency, clm_dtls, ref_qry,\tsrc_wtr_mrk_qry,\tcfg_upd_wtr_mrk_qry,\tbatch_sz,\tld_seq,\tuc_nm,\tsch_nm,\tmig_flag) select * from (SELECT '',\t'src_emp',\t'modifieddt',\t'1900-01-01T00:00:00.000+0000','Emp_ID'\t,'',\t'',\t1,\t1, \n",
    "        '(Select Emp_Id, Emp_nm, Dept_Id, createdt, modifieddt, modifieddt as watermark from EDP_source.src_emp where modifieddt > \"{}\"  and modifieddt <=\"{}\")','',\t'select max(\"{}\") from EDP_source.\"{}\"', 'update EDP_DEV.incremental_load_cfg set wtr_mrk_clm_val=\"{}\" where entity_nm=\"{}\"',\t'',\tnull,\t'',\t'',\t''\n",
    "    )\"\"\"\n",
    "    spark.sql(userqry)"
   ]
  },
  {
   "cell_type": "code",
   "execution_count": 0,
   "metadata": {
    "application/vnd.databricks.v1+cell": {
     "cellMetadata": {
      "byteLimit": 2048000,
      "implicitDf": true,
      "rowLimit": 10000
     },
     "inputWidgets": {},
     "nuid": "7a0ffac8-e99e-49fa-b9b5-2ac9cb19c65f",
     "showTitle": false,
     "title": ""
    }
   },
   "outputs": [
    {
     "output_type": "display_data",
     "data": {
      "text/html": [
       "<style scoped>\n",
       "  .table-result-container {\n",
       "    max-height: 300px;\n",
       "    overflow: auto;\n",
       "  }\n",
       "  table, th, td {\n",
       "    border: 1px solid black;\n",
       "    border-collapse: collapse;\n",
       "  }\n",
       "  th, td {\n",
       "    padding: 5px;\n",
       "  }\n",
       "  th {\n",
       "    text-align: left;\n",
       "  }\n",
       "</style><div class='table-result-container'><table class='table-result'><thead style='background-color: white'><tr><th>src_nm</th><th>entity_nm</th><th>wtr_mrk_clm_nm</th><th>wtr_mrk_clm_val</th><th>src_clm_key</th><th>part_clm_nm</th><th>part_clm_val</th><th>interval</th><th>frequency</th><th>clm_dtls</th><th>ref_qry</th><th>src_wtr_mrk_qry</th><th>cfg_upd_wtr_mrk_qry</th><th>batch_sz</th><th>ld_seq</th><th>uc_nm</th><th>sch_nm</th><th>mig_flag</th></tr></thead><tbody><tr><td></td><td>src_emp</td><td>modifieddt</td><td>1900-01-01T00:00:00.000+0000</td><td>Emp_ID</td><td></td><td></td><td>1</td><td>1</td><td>(Select Emp_Id, Emp_nm, Dept_Id, createdt, modifieddt, modifieddt as watermark from EDP_source.src_emp where modifieddt > \"{}\"  and modifieddt <=\"{}\")</td><td></td><td>select max(\"{}\") from EDP_source.\"{}\"</td><td>update EDP_DEV.incremental_load_cfg set wtr_mrk_clm_val=\"{}\" where entity_nm=\"{}\"</td><td></td><td>null</td><td></td><td></td><td></td></tr></tbody></table></div>"
      ]
     },
     "metadata": {
      "application/vnd.databricks.v1+output": {
       "addedWidgets": {},
       "aggData": [],
       "aggError": "",
       "aggOverflow": false,
       "aggSchema": [],
       "aggSeriesLimitReached": false,
       "aggType": "",
       "arguments": {},
       "columnCustomDisplayInfos": {},
       "data": [
        [
         "",
         "src_emp",
         "modifieddt",
         "1900-01-01T00:00:00.000+0000",
         "Emp_ID",
         "",
         "",
         1,
         1,
         "(Select Emp_Id, Emp_nm, Dept_Id, createdt, modifieddt, modifieddt as watermark from EDP_source.src_emp where modifieddt > \"{}\"  and modifieddt <=\"{}\")",
         "",
         "select max(\"{}\") from EDP_source.\"{}\"",
         "update EDP_DEV.incremental_load_cfg set wtr_mrk_clm_val=\"{}\" where entity_nm=\"{}\"",
         "",
         null,
         "",
         "",
         ""
        ]
       ],
       "datasetInfos": [],
       "dbfsResultPath": null,
       "isJsonSchema": true,
       "metadata": {},
       "overflow": false,
       "plotOptions": {
        "customPlotOptions": {},
        "displayType": "table",
        "pivotAggregation": null,
        "pivotColumns": null,
        "xColumns": null,
        "yColumns": null
       },
       "removedWidgets": [],
       "schema": [
        {
         "metadata": "{}",
         "name": "src_nm",
         "type": "\"string\""
        },
        {
         "metadata": "{}",
         "name": "entity_nm",
         "type": "\"string\""
        },
        {
         "metadata": "{}",
         "name": "wtr_mrk_clm_nm",
         "type": "\"string\""
        },
        {
         "metadata": "{}",
         "name": "wtr_mrk_clm_val",
         "type": "\"string\""
        },
        {
         "metadata": "{}",
         "name": "src_clm_key",
         "type": "\"string\""
        },
        {
         "metadata": "{}",
         "name": "part_clm_nm",
         "type": "\"string\""
        },
        {
         "metadata": "{}",
         "name": "part_clm_val",
         "type": "\"string\""
        },
        {
         "metadata": "{}",
         "name": "interval",
         "type": "\"long\""
        },
        {
         "metadata": "{}",
         "name": "frequency",
         "type": "\"long\""
        },
        {
         "metadata": "{}",
         "name": "clm_dtls",
         "type": "\"string\""
        },
        {
         "metadata": "{}",
         "name": "ref_qry",
         "type": "\"string\""
        },
        {
         "metadata": "{}",
         "name": "src_wtr_mrk_qry",
         "type": "\"string\""
        },
        {
         "metadata": "{}",
         "name": "cfg_upd_wtr_mrk_qry",
         "type": "\"string\""
        },
        {
         "metadata": "{}",
         "name": "batch_sz",
         "type": "\"string\""
        },
        {
         "metadata": "{}",
         "name": "ld_seq",
         "type": "\"long\""
        },
        {
         "metadata": "{}",
         "name": "uc_nm",
         "type": "\"string\""
        },
        {
         "metadata": "{}",
         "name": "sch_nm",
         "type": "\"string\""
        },
        {
         "metadata": "{}",
         "name": "mig_flag",
         "type": "\"string\""
        }
       ],
       "type": "table"
      }
     },
     "output_type": "display_data"
    }
   ],
   "source": [
    "%sql\n",
    "select * from edp_dev.incremental_load_cfg"
   ]
  },
  {
   "cell_type": "code",
   "execution_count": 0,
   "metadata": {
    "application/vnd.databricks.v1+cell": {
     "cellMetadata": {
      "byteLimit": 2048000,
      "rowLimit": 10000
     },
     "inputWidgets": {},
     "nuid": "3839c774-8d70-4dce-b1ec-95065e783483",
     "showTitle": false,
     "title": ""
    }
   },
   "outputs": [
    {
     "output_type": "stream",
     "name": "stdout",
     "output_type": "stream",
     "text": [
      "Creating rule for null value\n"
     ]
    }
   ],
   "source": [
    "df1=spark.sql(f\"\"\"select * from {target_database}.data_quality_rule where  rule_nm='NULL_CHECK'\"\"\")\n",
    "if df1.count() ==1 :\n",
    "  print('Rule Present for null values')\n",
    "else:\n",
    "    print ('Creating rule for null value')\n",
    "    null_check_rules_insert = f\"\"\"\n",
    "    INSERT INTO {target_database}.data_quality_rule\n",
    "    (lob_nm, src_nm, entity_nm, rule_nm, rule_typ, rule_bs_qry, rule_qry, vw_nm, mig_flag)\n",
    "    VALUES('', '', 'src_emp', 'NULL_CHECK', 'Data quality check','', 'SELECT * from edp_dev.src_emp_brnz WHERE Emp_Id IS NOT NULL AND Emp_nm IS NOT NULL AND Dept_Id IS NOT NULL AND createdt IS NOT NULL AND modifieddt IS NOT NULL', '', '1')\n",
    "    \"\"\"\n",
    "    spark.sql(null_check_rules_insert)"
   ]
  },
  {
   "cell_type": "code",
   "execution_count": 0,
   "metadata": {
    "application/vnd.databricks.v1+cell": {
     "cellMetadata": {
      "byteLimit": 2048000,
      "rowLimit": 10000
     },
     "inputWidgets": {},
     "nuid": "9dfc69b5-aa24-4add-b58a-70cfad6113f3",
     "showTitle": false,
     "title": ""
    }
   },
   "outputs": [
    {
     "output_type": "stream",
     "name": "stdout",
     "output_type": "stream",
     "text": [
      "Creating rule for empty value\n"
     ]
    }
   ],
   "source": [
    "df2 = spark.sql(f\"\"\"select * from {target_database}.data_quality_rule where rule_nm='EMPTY_CHECK'\"\"\")\n",
    "if df2.count() == 1:\n",
    "    print('Rule Present for empty values')\n",
    "else:\n",
    "    print('Creating rule for empty value')\n",
    "    empty_check_rules_insert = f\"\"\"\n",
    "    INSERT INTO {target_database}.data_quality_rule\n",
    "    (lob_nm, src_nm, entity_nm, rule_nm, rule_typ, rule_bs_qry, rule_qry, vw_nm, mig_flag)\n",
    "    VALUES('', '', 'src_emp', 'EMPTY_CHECK', 'Data quality check', '', 'SELECT * from edp_dev.src_emp_brnz WHERE Emp_Id != \"\" OR Emp_nm != \"\" OR Dept_Id != \"\" OR createdt != \"\" OR modifieddt != \"\"', '', '1')\n",
    "    \"\"\"\n",
    "    spark.sql(empty_check_rules_insert)"
   ]
  },
  {
   "cell_type": "code",
   "execution_count": 0,
   "metadata": {
    "application/vnd.databricks.v1+cell": {
     "cellMetadata": {
      "byteLimit": 2048000,
      "rowLimit": 10000
     },
     "inputWidgets": {},
     "nuid": "44ec206f-0508-492f-889a-6f624fe41b79",
     "showTitle": false,
     "title": ""
    }
   },
   "outputs": [
    {
     "output_type": "stream",
     "name": "stdout",
     "output_type": "stream",
     "text": [
      "Creating rule for duplicate value\n"
     ]
    }
   ],
   "source": [
    "df3 = spark.sql(f\"\"\"select * from {target_database}.data_quality_rule where rule_nm='DUPLICATE_CHECK'\"\"\")\n",
    "if df3.count() == 1:\n",
    "    print('Rule Present for duplicate values')\n",
    "else:\n",
    "    print('Creating rule for duplicate value')\n",
    "    duplicate_check_rules_insert = f\"\"\"\n",
    "    INSERT INTO {target_database}.data_quality_rule\n",
    "    (lob_nm, src_nm, entity_nm, rule_nm, rule_typ, rule_bs_qry, rule_qry, vw_nm, mig_flag)\n",
    "    VALUES('', '', 'src_emp', 'DUPLICATE_CHECK', 'Data quality check', '', 'SELECT DISTINCT(*) FROM edp_dev.src_emp_brnz', '', '1')\n",
    "    \"\"\"\n",
    "    spark.sql(duplicate_check_rules_insert)"
   ]
  },
  {
   "cell_type": "code",
   "execution_count": 0,
   "metadata": {
    "application/vnd.databricks.v1+cell": {
     "cellMetadata": {
      "byteLimit": 2048000,
      "implicitDf": true,
      "rowLimit": 10000
     },
     "inputWidgets": {},
     "nuid": "4d62563e-52fb-4797-98a9-e33a672bd7e9",
     "showTitle": false,
     "title": ""
    }
   },
   "outputs": [
    {
     "output_type": "display_data",
     "data": {
      "text/html": [
       "<style scoped>\n",
       "  .table-result-container {\n",
       "    max-height: 300px;\n",
       "    overflow: auto;\n",
       "  }\n",
       "  table, th, td {\n",
       "    border: 1px solid black;\n",
       "    border-collapse: collapse;\n",
       "  }\n",
       "  th, td {\n",
       "    padding: 5px;\n",
       "  }\n",
       "  th {\n",
       "    text-align: left;\n",
       "  }\n",
       "</style><div class='table-result-container'><table class='table-result'><thead style='background-color: white'><tr><th>lob_nm</th><th>src_nm</th><th>entity_nm</th><th>rule_nm</th><th>rule_typ</th><th>rule_bs_qry</th><th>rule_qry</th><th>vw_nm</th><th>mig_flag</th></tr></thead><tbody><tr><td></td><td></td><td>src_emp</td><td>NULL_CHECK</td><td>Data quality check</td><td></td><td>SELECT * from edp_dev.src_emp_brnz WHERE Emp_Id IS NOT NULL AND Emp_nm IS NOT NULL AND Dept_Id IS NOT NULL AND createdt IS NOT NULL AND modifieddt IS NOT NULL</td><td></td><td>true</td></tr><tr><td></td><td></td><td>src_emp</td><td>EMPTY_CHECK</td><td>Data quality check</td><td></td><td>SELECT * from edp_dev.src_emp_brnz WHERE Emp_Id != \"\" OR Emp_nm != \"\" OR Dept_Id != \"\" OR createdt != \"\" OR modifieddt != \"\"</td><td></td><td>true</td></tr><tr><td></td><td></td><td>src_emp</td><td>DUPLICATE_CHECK</td><td>Data quality check</td><td></td><td>SELECT DISTINCT(*) FROM edp_dev.src_emp_brnz</td><td></td><td>true</td></tr></tbody></table></div>"
      ]
     },
     "metadata": {
      "application/vnd.databricks.v1+output": {
       "addedWidgets": {},
       "aggData": [],
       "aggError": "",
       "aggOverflow": false,
       "aggSchema": [],
       "aggSeriesLimitReached": false,
       "aggType": "",
       "arguments": {},
       "columnCustomDisplayInfos": {},
       "data": [
        [
         "",
         "",
         "src_emp",
         "NULL_CHECK",
         "Data quality check",
         "",
         "SELECT * from edp_dev.src_emp_brnz WHERE Emp_Id IS NOT NULL AND Emp_nm IS NOT NULL AND Dept_Id IS NOT NULL AND createdt IS NOT NULL AND modifieddt IS NOT NULL",
         "",
         true
        ],
        [
         "",
         "",
         "src_emp",
         "EMPTY_CHECK",
         "Data quality check",
         "",
         "SELECT * from edp_dev.src_emp_brnz WHERE Emp_Id != \"\" OR Emp_nm != \"\" OR Dept_Id != \"\" OR createdt != \"\" OR modifieddt != \"\"",
         "",
         true
        ],
        [
         "",
         "",
         "src_emp",
         "DUPLICATE_CHECK",
         "Data quality check",
         "",
         "SELECT DISTINCT(*) FROM edp_dev.src_emp_brnz",
         "",
         true
        ]
       ],
       "datasetInfos": [],
       "dbfsResultPath": null,
       "isJsonSchema": true,
       "metadata": {},
       "overflow": false,
       "plotOptions": {
        "customPlotOptions": {},
        "displayType": "table",
        "pivotAggregation": null,
        "pivotColumns": null,
        "xColumns": null,
        "yColumns": null
       },
       "removedWidgets": [],
       "schema": [
        {
         "metadata": "{}",
         "name": "lob_nm",
         "type": "\"string\""
        },
        {
         "metadata": "{}",
         "name": "src_nm",
         "type": "\"string\""
        },
        {
         "metadata": "{}",
         "name": "entity_nm",
         "type": "\"string\""
        },
        {
         "metadata": "{}",
         "name": "rule_nm",
         "type": "\"string\""
        },
        {
         "metadata": "{}",
         "name": "rule_typ",
         "type": "\"string\""
        },
        {
         "metadata": "{}",
         "name": "rule_bs_qry",
         "type": "\"string\""
        },
        {
         "metadata": "{}",
         "name": "rule_qry",
         "type": "\"string\""
        },
        {
         "metadata": "{}",
         "name": "vw_nm",
         "type": "\"string\""
        },
        {
         "metadata": "{}",
         "name": "mig_flag",
         "type": "\"boolean\""
        }
       ],
       "type": "table"
      }
     },
     "output_type": "display_data"
    }
   ],
   "source": [
    "%sql\n",
    "SELECT * from edp_dev.data_quality_rule"
   ]
  },
  {
   "cell_type": "code",
   "execution_count": 0,
   "metadata": {
    "application/vnd.databricks.v1+cell": {
     "cellMetadata": {
      "byteLimit": 2048000,
      "rowLimit": 10000
     },
     "inputWidgets": {},
     "nuid": "1717a996-6a65-4de5-ab01-fcd0cf4e3d1f",
     "showTitle": false,
     "title": ""
    }
   },
   "outputs": [],
   "source": []
  }
 ],
 "metadata": {
  "application/vnd.databricks.v1+notebook": {
   "dashboards": [],
   "environmentMetadata": null,
   "language": "python",
   "notebookMetadata": {
    "mostRecentlyExecutedCommandWithImplicitDF": {
     "commandId": 2757429957502404,
     "dataframes": [
      "_sqldf"
     ]
    },
    "pythonIndentUnit": 4
   },
   "notebookName": "DML",
   "widgets": {}
  }
 },
 "nbformat": 4,
 "nbformat_minor": 0
}
